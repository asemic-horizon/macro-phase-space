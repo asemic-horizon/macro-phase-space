{
 "cells": [
  {
   "cell_type": "code",
   "execution_count": 2,
   "metadata": {},
   "outputs": [],
   "source": [
    "# ipeadata module gets Brazilian economic data, obained from https://github.com/ipea/pyIpeaData\n",
    "# Note: pip install doesn't seem to be working\n",
    "from pandas import *\n",
    "from numpy import *\n",
    "from pprint import pprint\n",
    "from datetime import date\n",
    "import time\n",
    "import ipeadata"
   ]
  },
  {
   "cell_type": "markdown",
   "metadata": {},
   "source": [
    "Documentação dos metadados: http://ipeadata2-homologa.ipea.gov.br/api/"
   ]
  },
  {
   "cell_type": "code",
   "execution_count": null,
   "metadata": {},
   "outputs": [],
   "source": [
    "meta = ipeadata.get_metadata()"
   ]
  },
  {
   "cell_type": "markdown",
   "metadata": {},
   "source": [
    "----\n",
    "\n",
    "Filtros preliminares: excluímos os dados Regionais e selecionamos uma única frequência"
   ]
  },
  {
   "cell_type": "code",
   "execution_count": null,
   "metadata": {},
   "outputs": [],
   "source": [
    "simple_meta = meta[['TEMNOME','SERCODIGO','SERNOME','SERMINDATA','SERMAXDATA','PERNOME','FNTNOME','BASNOME']]\n",
    "simple_meta = simple_meta[simple_meta.BASNOME=='Macroeconômico']\n",
    "simple_freq = simple_meta[simple_meta['PERNOME']=='Mensal']\n",
    "simple_freq = simple_freq.drop(['BASNOME','PERNOME'], axis=1)"
   ]
  },
  {
   "cell_type": "markdown",
   "metadata": {},
   "source": [
    "Lista de temas:"
   ]
  },
  {
   "cell_type": "code",
   "execution_count": null,
   "metadata": {},
   "outputs": [],
   "source": [
    "simple_freq['TEMNOME'].unique()"
   ]
  },
  {
   "cell_type": "markdown",
   "metadata": {},
   "source": [
    "Investigamos, por exemplo, quais são os dados relacionados a emprego com informações recentes."
   ]
  },
  {
   "cell_type": "code",
   "execution_count": null,
   "metadata": {
    "scrolled": false
   },
   "outputs": [],
   "source": [
    "datasets_emprego = simple_freq[simple_freq['TEMNOME']=='Emprego'].drop('TEMNOME',axis=1)\n",
    "\n",
    "series = datasets_emprego[['SERCODIGO','SERNOME','FNTNOME','SERMINDATA','SERMAXDATA']].to_dict(orient='index')\n",
    "series = [series[s] for s in series if '2018' in series[s]['SERMAXDATA']]\n",
    "pprint(series) "
   ]
  },
  {
   "cell_type": "code",
   "execution_count": null,
   "metadata": {},
   "outputs": [],
   "source": [
    "df = ipeadata.ipeadata('CNI12_HTRAB12')\n",
    "df.tail()"
   ]
  },
  {
   "cell_type": "markdown",
   "metadata": {},
   "source": [
    "Dada a estrutura acima,"
   ]
  },
  {
   "cell_type": "code",
   "execution_count": null,
   "metadata": {},
   "outputs": [],
   "source": [
    "def fixed_series(series):\n",
    "    df = ipeadata.ipeadata(series)\n",
    "    time_axis = df.apply(lambda row:datetime(row['ANO'],row['MES'],row['DIA']),axis=1)\n",
    "    df = DataFrame(df['VALVALOR'])\n",
    "    df = df.set_index(time_axis)\n",
    "    df = df.rename(columns={'VALVALOR':series})\n",
    "    return df"
   ]
  },
  {
   "cell_type": "code",
   "execution_count": null,
   "metadata": {},
   "outputs": [],
   "source": [
    "horas_industria = fixed_series('CNI12_HTRAB12')"
   ]
  },
  {
   "cell_type": "code",
   "execution_count": null,
   "metadata": {},
   "outputs": [],
   "source": [
    "import matplotlib.pyplot as plt\n",
    "import seaborn\n",
    "\n",
    "def phase_plot(data):\n",
    "    plt.scatter(data, data.diff())\n",
    "    plt.xlabel(data.columns[0])\n",
    "    plt.ylabel('$\\Delta$({})'.format(data.columns[0]))\n",
    "    plt.show()"
   ]
  },
  {
   "cell_type": "code",
   "execution_count": null,
   "metadata": {},
   "outputs": [],
   "source": [
    "phase_plot(horas_industria)"
   ]
  },
  {
   "cell_type": "code",
   "execution_count": null,
   "metadata": {},
   "outputs": [],
   "source": [
    "horas_industria.plot()"
   ]
  },
  {
   "cell_type": "code",
   "execution_count": null,
   "metadata": {},
   "outputs": [],
   "source": [
    "\n",
    "horas_industria.diff().plot()"
   ]
  }
 ],
 "metadata": {
  "kernelspec": {
   "display_name": "Python 3",
   "language": "python",
   "name": "python3"
  },
  "language_info": {
   "codemirror_mode": {
    "name": "ipython",
    "version": 3
   },
   "file_extension": ".py",
   "mimetype": "text/x-python",
   "name": "python",
   "nbconvert_exporter": "python",
   "pygments_lexer": "ipython3",
   "version": "3.5.2"
  }
 },
 "nbformat": 4,
 "nbformat_minor": 2
}

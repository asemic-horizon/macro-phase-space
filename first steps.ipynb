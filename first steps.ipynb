{
 "cells": [
  {
   "cell_type": "markdown",
   "metadata": {},
   "source": [
    "### Macroeconomic phase space analysis: some first steps.\n",
    "\n",
    "What this mini-project sets out to do is to study Brazilian macroeconomic data in what I'm calling a **phase space approach**. In classical mechanics every moving part must be described by at least two numbers: a coordinate $q$ and a momentum $p$. (So for example $N$ particles in three-dimensional phenomenological reality live in a phase space with $6N$ dimensions). The phase space approach extends to pretty much every other field of physical science, albeit with generalized coordinates and momenta that may no longer be just mass-velocities.\n",
    "\n",
    "Does this have any utility for macroeconomic data? Let's find out!\n",
    "\n",
    "This notebook documents a whole series of first steps, including for example special cases followed by functions that generalize the previous ideas. The specific goals here are:\n",
    "\n",
    "1. To learn how to use the API provided by IPEADATA, a Brazilian official data store. This API is fully documented at  http://ipeadata2-homologa.ipea.gov.br/api/, but I'm already using some function hooks from the pyIpeaData project at https://github.com/ipea/pyIpeaData\n",
    "\n",
    "2. To visualize data in phase space form, i.e. levels versus velocities (or maybe at some point mass-velocities if the dimensional analysis suggests it). I'm going to use some tools for this, such as time-series frequency filters from statsmodels (Fast Fourier Transform would almost work, but Fourier series are defined for infinite time-series and bias a little at the end; this has a canonical solution in econometrics).\n",
    "\n",
    "3. To explore causality in $(p,q)$ space (this is similar to cointegration analysis, as will be explained when I get to that point) using techniques like the Graph LASSO and nearest-neighbor graphs.\n",
    "\n",
    "3. To explore manifold learning techniques such as LTSA and UMAP to produce low-dimenional characterizations of high-dimensional time series data and maybe find something like a phase space interpretation. (How this will work I don't know yet.\n",
    "\n",
    "What I'm *not* going to do, except maybe to play with UMAP semi-supervised learning: predictive modelling. I'm trained in econometrics; as it is, some of this will have parallels with econometric concepts and some might be horrifying to econometricians. Instead I want to find ways to use machine learning for the kind of qualitative analysis that already takes place after models (both from econometrics and simulation, eg DSGE) are put on the table. "
   ]
  },
  {
   "cell_type": "markdown",
   "metadata": {},
   "source": [
    "#### Getting the data"
   ]
  },
  {
   "cell_type": "code",
   "execution_count": 2,
   "metadata": {
    "collapsed": false
   },
   "outputs": [],
   "source": [
    "# ipeadata module gets Brazilian economic data, obained from https://github.com/ipea/pyIpeaData\n",
    "# Note: pip install doesn't seem to be working\n",
    "from pandas import *\n",
    "from numpy import *\n",
    "from pprint import pprint\n",
    "from datetime import date\n",
    "import time\n",
    "import ipeadata"
   ]
  },
  {
   "cell_type": "markdown",
   "metadata": {},
   "source": [
    "With this line we get the ``metadata'' dataframe, which has the catalog of datasets that are available from IPEADATA."
   ]
  },
  {
   "cell_type": "code",
   "execution_count": 3,
   "metadata": {
    "collapsed": true
   },
   "outputs": [],
   "source": [
    "meta = ipeadata.get_metadata()"
   ]
  },
  {
   "cell_type": "markdown",
   "metadata": {},
   "source": [
    "This is a pretty huge collection: over 10 thousands datasets. The columns are metadata described by\\ the API docs (http://ipeadata2-homologa.ipea.gov.br/api/)"
   ]
  },
  {
   "cell_type": "code",
   "execution_count": 6,
   "metadata": {
    "collapsed": false
   },
   "outputs": [
    {
     "data": {
      "text/plain": [
       "(11046, 29)"
      ]
     },
     "execution_count": 6,
     "metadata": {},
     "output_type": "execute_result"
    }
   ],
   "source": [
    "meta.shape"
   ]
  },
  {
   "cell_type": "markdown",
   "metadata": {},
   "source": [
    "First we select a few columns: theme, code, series name, lower and upper ends of the time interval, periodicity (monthly, etc.), source and \"base\" (which has two values, MACROECONOMIC and REGIONAL. (Otherwise there's just too much to see).\n",
    "\n",
    "Then we filter for series that are macroeconomic and have monthly periodicty. And then we can drop those filters from our final dataframe \"simple_freq\". We keep \"simple_meta\" because later we may want to use yearly or daily data."
   ]
  },
  {
   "cell_type": "code",
   "execution_count": 7,
   "metadata": {
    "collapsed": true
   },
   "outputs": [],
   "source": [
    "simple_meta = meta[['TEMNOME','SERCODIGO','SERNOME','SERMINDATA','SERMAXDATA','PERNOME','FNTNOME','BASNOME']]\n",
    "simple_meta = simple_meta[simple_meta.BASNOME=='Macroeconômico']\n",
    "simple_freq = simple_meta[simple_meta['PERNOME']=='Mensal']\n",
    "simple_freq = simple_freq.drop(['BASNOME','PERNOME'], axis=1)"
   ]
  },
  {
   "cell_type": "markdown",
   "metadata": {},
   "source": [
    "Let's see now the thematic classification for the available datasets."
   ]
  },
  {
   "cell_type": "code",
   "execution_count": 8,
   "metadata": {
    "collapsed": false
   },
   "outputs": [
    {
     "data": {
      "text/plain": [
       "array(['Produção', 'Consumo e vendas', 'Moeda e crédito',\n",
       "       'Comércio exterior', 'Finanças públicas', 'Câmbio',\n",
       "       'Contas nacionais', 'Preços', 'Balanço de pagamentos',\n",
       "       'Economia internacional', 'Emprego', 'Salário e renda',\n",
       "       'População', 'Sinopse macroeconômica', 'Correção monetária',\n",
       "       'Percepção e expectativa', 'Financeiras'], dtype=object)"
      ]
     },
     "execution_count": 8,
     "metadata": {},
     "output_type": "execute_result"
    }
   ],
   "source": [
    "simple_freq['TEMNOME'].unique()"
   ]
  },
  {
   "cell_type": "markdown",
   "metadata": {},
   "source": [
    "Let's select a theme (Employment); and furthermore look only at datasets that have recent observations."
   ]
  },
  {
   "cell_type": "code",
   "execution_count": 9,
   "metadata": {
    "collapsed": false,
    "scrolled": true
   },
   "outputs": [
    {
     "name": "stdout",
     "output_type": "stream",
     "text": [
      "[{'FNTNOME': 'Ministério do Trabalho e Emprego, Cadastro Geral de Empregados e '\n",
      "             'Desempregados (MTE/CAGED)',\n",
      "  'SERCODIGO': 'CAGED12_ADMIS',\n",
      "  'SERMAXDATA': '2018-06-01T00:00:00-03:00',\n",
      "  'SERMINDATA': '1999-05-01T00:00:00-03:00',\n",
      "  'SERNOME': 'Empregados - admissões'},\n",
      " {'FNTNOME': 'Ministério do Trabalho e Emprego, Cadastro Geral de Empregados e '\n",
      "             'Desempregados (MTE/CAGED)',\n",
      "  'SERCODIGO': 'CAGED12_DESLIG',\n",
      "  'SERMAXDATA': '2018-06-01T00:00:00-03:00',\n",
      "  'SERMINDATA': '1999-05-01T00:00:00-03:00',\n",
      "  'SERNOME': 'Empregados - demissões'},\n",
      " {'FNTNOME': 'Ministério do Trabalho e Emprego, Cadastro Geral de Empregados e '\n",
      "             'Desempregados (MTE/CAGED)',\n",
      "  'SERCODIGO': 'CAGED12_SALDO12',\n",
      "  'SERMAXDATA': '2018-06-01T00:00:00-03:00',\n",
      "  'SERMINDATA': '1999-05-01T00:00:00-03:00',\n",
      "  'SERNOME': 'Empregados - saldo'},\n",
      " {'FNTNOME': 'Confederação Nacional da Indústria',\n",
      "  'SERCODIGO': 'CNI12_HTRAB12',\n",
      "  'SERMAXDATA': '2018-06-01T00:00:00-03:00',\n",
      "  'SERMINDATA': '1991-12-01T00:00:00-02:00',\n",
      "  'SERNOME': 'Horas trabalhadas - indústria - índice (média 2006 = 100)'},\n",
      " {'FNTNOME': 'Confederação Nacional da Indústria',\n",
      "  'SERCODIGO': 'CNI12_HTRABD12',\n",
      "  'SERMAXDATA': '2018-06-01T00:00:00-03:00',\n",
      "  'SERMINDATA': '1992-01-01T00:00:00-02:00',\n",
      "  'SERNOME': 'Horas trabalhadas - indústria - índice dessaz. (média 2006 = '\n",
      "             '100)'},\n",
      " {'FNTNOME': 'Confederação Nacional da Indústria',\n",
      "  'SERCODIGO': 'CNI12_PEEMP12',\n",
      "  'SERMAXDATA': '2018-06-01T00:00:00-03:00',\n",
      "  'SERMINDATA': '1991-12-01T00:00:00-02:00',\n",
      "  'SERNOME': 'Pessoal empregado - indústria - índice (média 2006 = 100)'},\n",
      " {'FNTNOME': 'Confederação Nacional da Indústria',\n",
      "  'SERCODIGO': 'CNI12_PEEMPD12',\n",
      "  'SERMAXDATA': '2018-06-01T00:00:00-03:00',\n",
      "  'SERMINDATA': '1992-01-01T00:00:00-02:00',\n",
      "  'SERNOME': 'Pessoal empregado - indústria - índice dessaz. (média 2006 = '\n",
      "             '100)'},\n",
      " {'FNTNOME': 'Federação e Centro das Indústrias do Estado de São Paulo, '\n",
      "             'Levantamento de Conjuntura (Fiesp)',\n",
      "  'SERCODIGO': 'FIESP12_HTP12',\n",
      "  'SERMAXDATA': '2018-04-01T00:00:00-03:00',\n",
      "  'SERMINDATA': '1975-01-01T00:00:00-02:00',\n",
      "  'SERNOME': 'Horas trabalhadas - na produção - indústria - índice (média 2006 '\n",
      "             '= 100) - SP'},\n",
      " {'FNTNOME': 'Federação e Centro das Indústrias do Estado de São Paulo, '\n",
      "             'Levantamento de Conjuntura (Fiesp)',\n",
      "  'SERCODIGO': 'FIESP12_NEINSPX12',\n",
      "  'SERMAXDATA': '2018-05-01T00:00:00-03:00',\n",
      "  'SERMINDATA': '1981-01-01T00:00:00-02:00',\n",
      "  'SERNOME': 'Nível de emprego - indústria - índice (jun. 2005 = 100) - SP'},\n",
      " {'FNTNOME': 'Federação e Centro das Indústrias do Estado de São Paulo, '\n",
      "             'Levantamento de Conjuntura (Fiesp)',\n",
      "  'SERCODIGO': 'FIESP12_POP12',\n",
      "  'SERMAXDATA': '2018-04-01T00:00:00-03:00',\n",
      "  'SERMINDATA': '2001-01-01T00:00:00-02:00',\n",
      "  'SERNOME': 'Pessoal ocupado - na produção - indústria - índice (média 2006 = '\n",
      "             '100) - SP'},\n",
      " {'FNTNOME': 'Federação e Centro das Indústrias do Estado de São Paulo, '\n",
      "             'Levantamento de Conjuntura (Fiesp)',\n",
      "  'SERCODIGO': 'FIESP12_THP12',\n",
      "  'SERMAXDATA': '2018-04-01T00:00:00-03:00',\n",
      "  'SERMINDATA': '1975-01-01T00:00:00-02:00',\n",
      "  'SERNOME': 'Horas pagas - indústria - índice (média 2006 = 100) - SP'},\n",
      " {'FNTNOME': 'Federação e Centro das Indústrias do Estado de São Paulo, '\n",
      "             'Levantamento de Conjuntura (Fiesp)',\n",
      "  'SERCODIGO': 'FIESP12_TPO12',\n",
      "  'SERMAXDATA': '2018-04-01T00:00:00-03:00',\n",
      "  'SERMINDATA': '1975-01-01T00:00:00-02:00',\n",
      "  'SERNOME': 'Pessoal ocupado - indústria - índice (média 2006 = 100) - SP'},\n",
      " {'FNTNOME': 'Federação das Indústrias do Estado do Rio de Janeiro, Assessoria '\n",
      "             'de Pesquisas Econômicas (Firjan)',\n",
      "  'SERCODIGO': 'FIRJAN12_EINDRJ12',\n",
      "  'SERMAXDATA': '2018-06-01T00:00:00-03:00',\n",
      "  'SERMINDATA': '1992-01-01T00:00:00-02:00',\n",
      "  'SERNOME': 'Emprego - indústria - RJ - índice (média 2006 = 100)'},\n",
      " {'FNTNOME': 'Federação das Indústrias do Estado do Rio de Janeiro, Assessoria '\n",
      "             'de Pesquisas Econômicas (Firjan)',\n",
      "  'SERCODIGO': 'FIRJAN12_HTRABRJ12',\n",
      "  'SERMAXDATA': '2018-06-01T00:00:00-03:00',\n",
      "  'SERMINDATA': '1992-01-01T00:00:00-02:00',\n",
      "  'SERNOME': 'Horas trabalhadas - indústria - índice - RJ - (média 2006 = '\n",
      "             '100)'},\n",
      " {'FNTNOME': 'Federação das Indústrias do Estado do Rio de Janeiro, Assessoria '\n",
      "             'de Pesquisas Econômicas (Firjan)',\n",
      "  'SERCODIGO': 'FIRJAN12_MASSARJ12',\n",
      "  'SERMAXDATA': '2018-06-01T00:00:00-03:00',\n",
      "  'SERMINDATA': '1992-01-01T00:00:00-02:00',\n",
      "  'SERNOME': 'Massa salarial - indústria  - índice - RJ - (média 2006 = 100)'},\n",
      " {'FNTNOME': None,\n",
      "  'SERCODIGO': 'PNADC12_CP12',\n",
      "  'SERMAXDATA': '2018-07-01T00:00:00-03:00',\n",
      "  'SERMINDATA': '2012-03-01T00:00:00-03:00',\n",
      "  'SERNOME': 'Pessoas ocup. - Conta-própria'},\n",
      " {'FNTNOME': None,\n",
      "  'SERCODIGO': 'PNADC12_EMPGDOR12',\n",
      "  'SERMAXDATA': '2018-07-01T00:00:00-03:00',\n",
      "  'SERMINDATA': '2012-03-01T00:00:00-03:00',\n",
      "  'SERNOME': 'Pessoas ocup. - Empregador'},\n",
      " {'FNTNOME': None,\n",
      "  'SERCODIGO': 'PNADC12_ESPCC12',\n",
      "  'SERMAXDATA': '2018-07-01T00:00:00-03:00',\n",
      "  'SERMINDATA': '2012-03-01T00:00:00-03:00',\n",
      "  'SERNOME': 'Pessoas ocup. - Empregado no setor privado com carteira de '\n",
      "             'trabalho assinada (excl. trab. dom.)'},\n",
      " {'FNTNOME': None,\n",
      "  'SERCODIGO': 'PNADC12_ESPSC12',\n",
      "  'SERMAXDATA': '2018-07-01T00:00:00-03:00',\n",
      "  'SERMINDATA': '2012-03-01T00:00:00-03:00',\n",
      "  'SERNOME': 'Pessoas ocup. - Empregado no setor privado sem carteira de '\n",
      "             'trabalho assinada (excl. trab. dom.)'},\n",
      " {'FNTNOME': None,\n",
      "  'SERCODIGO': 'PNADC12_ESPUB12',\n",
      "  'SERMAXDATA': '2018-07-01T00:00:00-03:00',\n",
      "  'SERMINDATA': '2012-03-01T00:00:00-03:00',\n",
      "  'SERNOME': 'Pessoas ocup. - Empregado no setor público (inclusive servidor '\n",
      "             'estatutário e militar)'},\n",
      " {'FNTNOME': None,\n",
      "  'SERCODIGO': 'PNADC12_FFT12',\n",
      "  'SERMAXDATA': '2018-07-01T00:00:00-03:00',\n",
      "  'SERMINDATA': '2012-03-01T00:00:00-03:00',\n",
      "  'SERNOME': 'Pessoas fora da força de trabalho,'},\n",
      " {'FNTNOME': None,\n",
      "  'SERCODIGO': 'PNADC12_FT12',\n",
      "  'SERMAXDATA': '2018-07-01T00:00:00-03:00',\n",
      "  'SERMINDATA': '2012-03-01T00:00:00-03:00',\n",
      "  'SERNOME': 'Pessoas na força de trabalho,'},\n",
      " {'FNTNOME': None,\n",
      "  'SERCODIGO': 'PNADC12_NDESOC12',\n",
      "  'SERMAXDATA': '2018-07-01T00:00:00-03:00',\n",
      "  'SERMINDATA': '2012-03-01T00:00:00-03:00',\n",
      "  'SERNOME': 'Nível da desocupação'},\n",
      " {'FNTNOME': None,\n",
      "  'SERCODIGO': 'PNADC12_NOCUP12',\n",
      "  'SERMAXDATA': '2018-07-01T00:00:00-03:00',\n",
      "  'SERMINDATA': '2012-03-01T00:00:00-03:00',\n",
      "  'SERNOME': 'Nível da ocupação'},\n",
      " {'FNTNOME': None,\n",
      "  'SERCODIGO': 'PNADC12_OCUPAGR12',\n",
      "  'SERMAXDATA': '2018-07-01T00:00:00-03:00',\n",
      "  'SERMINDATA': '2012-03-01T00:00:00-03:00',\n",
      "  'SERNOME': 'Pessoas ocup. - Agricultura, pecuária, prod. florestal, pesca e '\n",
      "             'aquicultura'},\n",
      " {'FNTNOME': None,\n",
      "  'SERCODIGO': 'PNADC12_OCUPALOJ12',\n",
      "  'SERMAXDATA': '2018-07-01T00:00:00-03:00',\n",
      "  'SERMINDATA': '2012-03-01T00:00:00-03:00',\n",
      "  'SERNOME': 'Pessoas ocup. - Alojamento e alimentação'},\n",
      " {'FNTNOME': None,\n",
      "  'SERCODIGO': 'PNADC12_OCUPCOM12',\n",
      "  'SERMAXDATA': '2018-07-01T00:00:00-03:00',\n",
      "  'SERMINDATA': '2012-03-01T00:00:00-03:00',\n",
      "  'SERNOME': 'Pessoas ocup. - Comércio, reparação de veículos automotores e '\n",
      "             'motocicletas'},\n",
      " {'FNTNOME': None,\n",
      "  'SERCODIGO': 'PNADC12_OCUPCONST12',\n",
      "  'SERMAXDATA': '2018-07-01T00:00:00-03:00',\n",
      "  'SERMINDATA': '2012-03-01T00:00:00-03:00',\n",
      "  'SERNOME': 'Pessoas ocup. - Construção'},\n",
      " {'FNTNOME': None,\n",
      "  'SERCODIGO': 'PNADC12_OCUPCONT12',\n",
      "  'SERMAXDATA': '2018-07-01T00:00:00-03:00',\n",
      "  'SERMINDATA': '2012-03-01T00:00:00-03:00',\n",
      "  'SERNOME': 'Pessoas ocup., por contribuição para instituto de previdência em '\n",
      "             'qualquer trabalho'},\n",
      " {'FNTNOME': None,\n",
      "  'SERCODIGO': 'PNADC12_OCUPDOM12',\n",
      "  'SERMAXDATA': '2018-07-01T00:00:00-03:00',\n",
      "  'SERMINDATA': '2012-03-01T00:00:00-03:00',\n",
      "  'SERNOME': 'Pessoas ocup. - Serviços Domésticos'},\n",
      " {'FNTNOME': None,\n",
      "  'SERCODIGO': 'PNADC12_OCUPIG12',\n",
      "  'SERMAXDATA': '2018-07-01T00:00:00-03:00',\n",
      "  'SERMINDATA': '2012-03-01T00:00:00-03:00',\n",
      "  'SERNOME': 'Pessoas ocup. - Indústria Geral'},\n",
      " {'FNTNOME': None,\n",
      "  'SERCODIGO': 'PNADC12_OCUPINFO12',\n",
      "  'SERMAXDATA': '2018-07-01T00:00:00-03:00',\n",
      "  'SERMINDATA': '2012-03-01T00:00:00-03:00',\n",
      "  'SERNOME': 'Pessoas ocup. - Inform., comunic. e ativ. financeiras, imob., '\n",
      "             'profis. e adm.'},\n",
      " {'FNTNOME': None,\n",
      "  'SERCODIGO': 'PNADC12_OCUPOUT12',\n",
      "  'SERMAXDATA': '2018-07-01T00:00:00-03:00',\n",
      "  'SERMINDATA': '2012-03-01T00:00:00-03:00',\n",
      "  'SERNOME': 'Pessoas ocup. - Outros serviços'},\n",
      " {'FNTNOME': None,\n",
      "  'SERCODIGO': 'PNADC12_OCUPPUB12',\n",
      "  'SERMAXDATA': '2018-07-01T00:00:00-03:00',\n",
      "  'SERMINDATA': '2012-03-01T00:00:00-03:00',\n",
      "  'SERNOME': 'Pessoas ocup. - Adm. púb., defesa, segurid., educ., saúde hum. e '\n",
      "             'serv. soc.'},\n",
      " {'FNTNOME': None,\n",
      "  'SERCODIGO': 'PNADC12_OCUPTRANS12',\n",
      "  'SERMAXDATA': '2018-07-01T00:00:00-03:00',\n",
      "  'SERMINDATA': '2012-03-01T00:00:00-03:00',\n",
      "  'SERNOME': 'Pessoas ocup. - Transporte, armazenag- e correio'},\n",
      " {'FNTNOME': None,\n",
      "  'SERCODIGO': 'PNADC12_PD12',\n",
      "  'SERMAXDATA': '2018-07-01T00:00:00-03:00',\n",
      "  'SERMINDATA': '2012-03-01T00:00:00-03:00',\n",
      "  'SERNOME': 'Pessoas desocupadas'},\n",
      " {'FNTNOME': None,\n",
      "  'SERCODIGO': 'PNADC12_PEROCUPCONT12',\n",
      "  'SERMAXDATA': '2018-07-01T00:00:00-03:00',\n",
      "  'SERMINDATA': '2012-03-01T00:00:00-03:00',\n",
      "  'SERNOME': 'Percentual contribuintes de instituto de previdência na '\n",
      "             'população ocup.'},\n",
      " {'FNTNOME': None,\n",
      "  'SERCODIGO': 'PNADC12_PI12',\n",
      "  'SERMAXDATA': '2018-07-01T00:00:00-03:00',\n",
      "  'SERMINDATA': '2012-03-01T00:00:00-03:00',\n",
      "  'SERNOME': 'Pessoas de 14 anos ou mais de idade'},\n",
      " {'FNTNOME': None,\n",
      "  'SERCODIGO': 'PNADC12_PO12',\n",
      "  'SERMAXDATA': '2018-07-01T00:00:00-03:00',\n",
      "  'SERMINDATA': '2012-03-01T00:00:00-03:00',\n",
      "  'SERNOME': 'Pessoas ocupadas'},\n",
      " {'FNTNOME': None,\n",
      "  'SERCODIGO': 'PNADC12_TDESOC12',\n",
      "  'SERMAXDATA': '2018-07-01T00:00:00-03:00',\n",
      "  'SERMINDATA': '2012-03-01T00:00:00-03:00',\n",
      "  'SERNOME': 'Taxa de desocupação'},\n",
      " {'FNTNOME': None,\n",
      "  'SERCODIGO': 'PNADC12_TFA12',\n",
      "  'SERMAXDATA': '2018-07-01T00:00:00-03:00',\n",
      "  'SERMINDATA': '2012-03-01T00:00:00-03:00',\n",
      "  'SERNOME': 'Pessoas ocup. - Trabalhador familiar auxiliar'},\n",
      " {'FNTNOME': None,\n",
      "  'SERCODIGO': 'PNADC12_TPART12',\n",
      "  'SERMAXDATA': '2018-07-01T00:00:00-03:00',\n",
      "  'SERMINDATA': '2012-03-01T00:00:00-03:00',\n",
      "  'SERNOME': 'Taxa de participação na força de trabalho'},\n",
      " {'FNTNOME': None,\n",
      "  'SERCODIGO': 'PNADC12_TRDOM12',\n",
      "  'SERMAXDATA': '2018-07-01T00:00:00-03:00',\n",
      "  'SERMINDATA': '2012-03-01T00:00:00-03:00',\n",
      "  'SERNOME': 'Pessoas ocup. - Trabalhador doméstico'},\n",
      " {'FNTNOME': None,\n",
      "  'SERCODIGO': 'SEADE12_TDAGSP12',\n",
      "  'SERMAXDATA': '2018-06-01T00:00:00-03:00',\n",
      "  'SERMINDATA': '1984-12-01T00:00:00-02:00',\n",
      "  'SERNOME': 'Taxa de desemprego - aberto - RMSP'},\n",
      " {'FNTNOME': None,\n",
      "  'SERCODIGO': 'SEADE12_TDOPSP12',\n",
      "  'SERMAXDATA': '2018-06-01T00:00:00-03:00',\n",
      "  'SERMINDATA': '1991-01-01T00:00:00-02:00',\n",
      "  'SERNOME': 'Taxa de desemprego - oculto - precário - RMSP'},\n",
      " {'FNTNOME': None,\n",
      "  'SERCODIGO': 'SEADE12_TDOTSP12',\n",
      "  'SERMAXDATA': '2018-06-01T00:00:00-03:00',\n",
      "  'SERMINDATA': '1991-01-01T00:00:00-02:00',\n",
      "  'SERNOME': 'Taxa de desemprego - oculto - RMSP'},\n",
      " {'FNTNOME': None,\n",
      "  'SERCODIGO': 'SEADE12_TDTGSP12',\n",
      "  'SERMAXDATA': '2018-06-01T00:00:00-03:00',\n",
      "  'SERMINDATA': '1984-12-01T00:00:00-02:00',\n",
      "  'SERNOME': 'Taxa de desemprego - RMSP'}]\n"
     ]
    }
   ],
   "source": [
    "datasets_emprego = simple_freq[simple_freq['TEMNOME']=='Emprego'].drop('TEMNOME',axis=1)\n",
    "\n",
    "series = datasets_emprego[['SERCODIGO','SERNOME','FNTNOME','SERMINDATA','SERMAXDATA']].to_dict(orient='index')\n",
    "series = [series[s] for s in series if '2018' in series[s]['SERMAXDATA']]\n",
    "pprint(series) "
   ]
  },
  {
   "cell_type": "markdown",
   "metadata": {},
   "source": [
    "We can finally look at what a single dataset looks like; we will choose CNI12_HTRAB12, the number of hours worked in the transformation industries."
   ]
  },
  {
   "cell_type": "code",
   "execution_count": 10,
   "metadata": {
    "collapsed": false
   },
   "outputs": [
    {
     "data": {
      "text/html": [
       "<div>\n",
       "<style scoped>\n",
       "    .dataframe tbody tr th:only-of-type {\n",
       "        vertical-align: middle;\n",
       "    }\n",
       "\n",
       "    .dataframe tbody tr th {\n",
       "        vertical-align: top;\n",
       "    }\n",
       "\n",
       "    .dataframe thead th {\n",
       "        text-align: right;\n",
       "    }\n",
       "</style>\n",
       "<table border=\"1\" class=\"dataframe\">\n",
       "  <thead>\n",
       "    <tr style=\"text-align: right;\">\n",
       "      <th></th>\n",
       "      <th>ANO</th>\n",
       "      <th>DIA</th>\n",
       "      <th>MES</th>\n",
       "      <th>NIVNOME</th>\n",
       "      <th>SERCODIGO</th>\n",
       "      <th>TERCODIGO</th>\n",
       "      <th>TERNOME</th>\n",
       "      <th>VALDATA</th>\n",
       "      <th>VALVALOR</th>\n",
       "    </tr>\n",
       "  </thead>\n",
       "  <tbody>\n",
       "    <tr>\n",
       "      <th>314</th>\n",
       "      <td>2018</td>\n",
       "      <td>1</td>\n",
       "      <td>2</td>\n",
       "      <td></td>\n",
       "      <td>CNI12_HTRAB12</td>\n",
       "      <td></td>\n",
       "      <td></td>\n",
       "      <td>2018-02-01T00:00:00-02:00</td>\n",
       "      <td>80.9</td>\n",
       "    </tr>\n",
       "    <tr>\n",
       "      <th>315</th>\n",
       "      <td>2018</td>\n",
       "      <td>1</td>\n",
       "      <td>3</td>\n",
       "      <td></td>\n",
       "      <td>CNI12_HTRAB12</td>\n",
       "      <td></td>\n",
       "      <td></td>\n",
       "      <td>2018-03-01T00:00:00-03:00</td>\n",
       "      <td>85.6</td>\n",
       "    </tr>\n",
       "    <tr>\n",
       "      <th>316</th>\n",
       "      <td>2018</td>\n",
       "      <td>1</td>\n",
       "      <td>4</td>\n",
       "      <td></td>\n",
       "      <td>CNI12_HTRAB12</td>\n",
       "      <td></td>\n",
       "      <td></td>\n",
       "      <td>2018-04-01T00:00:00-03:00</td>\n",
       "      <td>86.0</td>\n",
       "    </tr>\n",
       "    <tr>\n",
       "      <th>317</th>\n",
       "      <td>2018</td>\n",
       "      <td>1</td>\n",
       "      <td>5</td>\n",
       "      <td></td>\n",
       "      <td>CNI12_HTRAB12</td>\n",
       "      <td></td>\n",
       "      <td></td>\n",
       "      <td>2018-05-01T00:00:00-03:00</td>\n",
       "      <td>86.9</td>\n",
       "    </tr>\n",
       "    <tr>\n",
       "      <th>318</th>\n",
       "      <td>2018</td>\n",
       "      <td>1</td>\n",
       "      <td>6</td>\n",
       "      <td></td>\n",
       "      <td>CNI12_HTRAB12</td>\n",
       "      <td></td>\n",
       "      <td></td>\n",
       "      <td>2018-06-01T00:00:00-03:00</td>\n",
       "      <td>86.9</td>\n",
       "    </tr>\n",
       "  </tbody>\n",
       "</table>\n",
       "</div>"
      ],
      "text/plain": [
       "      ANO  DIA  MES NIVNOME      SERCODIGO TERCODIGO TERNOME  \\\n",
       "314  2018    1    2          CNI12_HTRAB12                     \n",
       "315  2018    1    3          CNI12_HTRAB12                     \n",
       "316  2018    1    4          CNI12_HTRAB12                     \n",
       "317  2018    1    5          CNI12_HTRAB12                     \n",
       "318  2018    1    6          CNI12_HTRAB12                     \n",
       "\n",
       "                       VALDATA  VALVALOR  \n",
       "314  2018-02-01T00:00:00-02:00      80.9  \n",
       "315  2018-03-01T00:00:00-03:00      85.6  \n",
       "316  2018-04-01T00:00:00-03:00      86.0  \n",
       "317  2018-05-01T00:00:00-03:00      86.9  \n",
       "318  2018-06-01T00:00:00-03:00      86.9  "
      ]
     },
     "execution_count": 10,
     "metadata": {},
     "output_type": "execute_result"
    }
   ],
   "source": [
    "df = ipeadata.ipeadata('CNI12_HTRAB12')\n",
    "df.tail()"
   ]
  },
  {
   "cell_type": "markdown",
   "metadata": {},
   "source": [
    "Now that we know this structure, we can define a function that gives us a nicer format."
   ]
  },
  {
   "cell_type": "code",
   "execution_count": 11,
   "metadata": {
    "collapsed": true
   },
   "outputs": [],
   "source": [
    "def fixed_series(series):\n",
    "    df = ipeadata.ipeadata(series)\n",
    "    time_axis = df.apply(lambda row:datetime(row['ANO'],row['MES'],row['DIA']),axis=1)\n",
    "    df = DataFrame(df['VALVALOR'])\n",
    "    df = df.set_index(time_axis)\n",
    "    df = df.rename(columns={'VALVALOR':series})\n",
    "    return df"
   ]
  },
  {
   "cell_type": "markdown",
   "metadata": {},
   "source": [
    "#### First explorations of a time series"
   ]
  },
  {
   "cell_type": "markdown",
   "metadata": {},
   "source": [
    "With this utility function, we download again the hours-worked-in-industry time series and define a function to do phase plots."
   ]
  },
  {
   "cell_type": "code",
   "execution_count": 12,
   "metadata": {
    "collapsed": true
   },
   "outputs": [],
   "source": [
    "horas_industria = fixed_series('CNI12_HTRAB12')"
   ]
  },
  {
   "cell_type": "code",
   "execution_count": null,
   "metadata": {
    "collapsed": true
   },
   "outputs": [],
   "source": [
    "import matplotlib.pyplot as plt\n",
    "import seaborn\n",
    "\n",
    "def phase_plot(data):\n",
    "    plt.scatter(data, data.diff())\n",
    "    plt.xlabel(\"$p = {}\".format(data.columns[0]))\n",
    "    plt.ylabel('$q = \\Delta$({})'.format(data.columns[0]))\n",
    "    plt.show()"
   ]
  },
  {
   "cell_type": "markdown",
   "metadata": {},
   "source": [
    "The phase plot for the series we just downloaded looks like... nothing."
   ]
  },
  {
   "cell_type": "code",
   "execution_count": null,
   "metadata": {
    "collapsed": true
   },
   "outputs": [],
   "source": [
    "phase_plot(horas_industria)"
   ]
  },
  {
   "cell_type": "markdown",
   "metadata": {},
   "source": [
    "This is in great part explainable by the fact that this series appears to be highly cyclical."
   ]
  },
  {
   "cell_type": "code",
   "execution_count": null,
   "metadata": {
    "collapsed": true
   },
   "outputs": [],
   "source": [
    "horas_industria.plot()"
   ]
  },
  {
   "cell_type": "code",
   "execution_count": null,
   "metadata": {
    "collapsed": true
   },
   "outputs": [],
   "source": [
    "horas_industria.diff().plot()"
   ]
  },
  {
   "cell_type": "code",
   "execution_count": null,
   "metadata": {
    "collapsed": true
   },
   "outputs": [],
   "source": []
  }
 ],
 "metadata": {
  "kernelspec": {
   "display_name": "Python [default]",
   "language": "python",
   "name": "python3"
  },
  "language_info": {
   "codemirror_mode": {
    "name": "ipython",
    "version": 3
   },
   "file_extension": ".py",
   "mimetype": "text/x-python",
   "name": "python",
   "nbconvert_exporter": "python",
   "pygments_lexer": "ipython3",
   "version": "3.5.2"
  }
 },
 "nbformat": 4,
 "nbformat_minor": 2
}
